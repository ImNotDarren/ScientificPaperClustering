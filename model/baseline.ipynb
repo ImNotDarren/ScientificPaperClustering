{
 "cells": [
  {
   "cell_type": "code",
   "execution_count": 123,
   "id": "20c9b663",
   "metadata": {},
   "outputs": [],
   "source": [
    "import pandas as pd\n",
    "import numpy as np\n",
    "from sklearn.feature_extraction.text import TfidfVectorizer\n",
    "from sklearn.decomposition import TruncatedSVD, NMF\n",
    "from sklearn.cluster import KMeans\n",
    "from spacy.lang.en.stop_words import STOP_WORDS\n",
    "import matplotlib.pyplot as plt\n",
    "import pickle"
   ]
  },
  {
   "cell_type": "code",
   "execution_count": 2,
   "id": "1851973e",
   "metadata": {},
   "outputs": [],
   "source": [
    "df = pd.read_csv('../dataset/arxiv_sampled.csv')"
   ]
  },
  {
   "cell_type": "code",
   "execution_count": 3,
   "id": "8a8d4f0d",
   "metadata": {},
   "outputs": [],
   "source": [
    "# extract all abstracts and replace \\n token with a space\n",
    "corpus = []\n",
    "for index, row in df.iterrows():\n",
    "    text = row.abstract\n",
    "    text = text.replace('\\n', ' ')\n",
    "    corpus.append(text)"
   ]
  },
  {
   "cell_type": "code",
   "execution_count": 195,
   "id": "b9268a0e",
   "metadata": {},
   "outputs": [],
   "source": [
    "stop_words = list(STOP_WORDS)\n",
    "stop_words += ['according', 'able', 'll', 've', 'achieved', 'achieves']\n",
    "vectorizer = TfidfVectorizer(stop_words=stop_words, min_df=0.02, max_df=0.05)\n",
    "doc_term_matrix = vectorizer.fit_transform(corpus)\n",
    "vec = pd.DataFrame(doc_term_matrix.toarray(),\n",
    "                   columns=vectorizer.get_feature_names_out())\n",
    "feature_names = vectorizer.get_feature_names_out()"
   ]
  },
  {
   "cell_type": "code",
   "execution_count": 196,
   "id": "baeb7beb",
   "metadata": {},
   "outputs": [
    {
     "data": {
      "text/html": [
       "<div>\n",
       "<style scoped>\n",
       "    .dataframe tbody tr th:only-of-type {\n",
       "        vertical-align: middle;\n",
       "    }\n",
       "\n",
       "    .dataframe tbody tr th {\n",
       "        vertical-align: top;\n",
       "    }\n",
       "\n",
       "    .dataframe thead th {\n",
       "        text-align: right;\n",
       "    }\n",
       "</style>\n",
       "<table border=\"1\" class=\"dataframe\">\n",
       "  <thead>\n",
       "    <tr style=\"text-align: right;\">\n",
       "      <th></th>\n",
       "      <th>2d</th>\n",
       "      <th>3d</th>\n",
       "      <th>ability</th>\n",
       "      <th>access</th>\n",
       "      <th>account</th>\n",
       "      <th>accurate</th>\n",
       "      <th>action</th>\n",
       "      <th>active</th>\n",
       "      <th>adaptive</th>\n",
       "      <th>additional</th>\n",
       "      <th>...</th>\n",
       "      <th>view</th>\n",
       "      <th>vision</th>\n",
       "      <th>visual</th>\n",
       "      <th>wave</th>\n",
       "      <th>weak</th>\n",
       "      <th>wide</th>\n",
       "      <th>widely</th>\n",
       "      <th>works</th>\n",
       "      <th>years</th>\n",
       "      <th>zero</th>\n",
       "    </tr>\n",
       "  </thead>\n",
       "  <tbody>\n",
       "    <tr>\n",
       "      <th>0</th>\n",
       "      <td>0.0</td>\n",
       "      <td>0.0</td>\n",
       "      <td>0.0</td>\n",
       "      <td>0.736404</td>\n",
       "      <td>0.000000</td>\n",
       "      <td>0.0</td>\n",
       "      <td>0.0</td>\n",
       "      <td>0.0</td>\n",
       "      <td>0.0</td>\n",
       "      <td>0.0</td>\n",
       "      <td>...</td>\n",
       "      <td>0.0</td>\n",
       "      <td>0.0</td>\n",
       "      <td>0.0</td>\n",
       "      <td>0.0</td>\n",
       "      <td>0.0</td>\n",
       "      <td>0.0</td>\n",
       "      <td>0.0</td>\n",
       "      <td>0.0</td>\n",
       "      <td>0.0</td>\n",
       "      <td>0.0</td>\n",
       "    </tr>\n",
       "    <tr>\n",
       "      <th>1</th>\n",
       "      <td>0.0</td>\n",
       "      <td>0.0</td>\n",
       "      <td>0.0</td>\n",
       "      <td>0.000000</td>\n",
       "      <td>0.230273</td>\n",
       "      <td>0.0</td>\n",
       "      <td>0.0</td>\n",
       "      <td>0.0</td>\n",
       "      <td>0.0</td>\n",
       "      <td>0.0</td>\n",
       "      <td>...</td>\n",
       "      <td>0.0</td>\n",
       "      <td>0.0</td>\n",
       "      <td>0.0</td>\n",
       "      <td>0.0</td>\n",
       "      <td>0.0</td>\n",
       "      <td>0.0</td>\n",
       "      <td>0.0</td>\n",
       "      <td>0.0</td>\n",
       "      <td>0.0</td>\n",
       "      <td>0.0</td>\n",
       "    </tr>\n",
       "    <tr>\n",
       "      <th>2</th>\n",
       "      <td>0.0</td>\n",
       "      <td>0.0</td>\n",
       "      <td>0.0</td>\n",
       "      <td>0.000000</td>\n",
       "      <td>0.000000</td>\n",
       "      <td>0.0</td>\n",
       "      <td>0.0</td>\n",
       "      <td>0.0</td>\n",
       "      <td>0.0</td>\n",
       "      <td>0.0</td>\n",
       "      <td>...</td>\n",
       "      <td>0.0</td>\n",
       "      <td>0.0</td>\n",
       "      <td>0.0</td>\n",
       "      <td>0.0</td>\n",
       "      <td>0.0</td>\n",
       "      <td>0.0</td>\n",
       "      <td>0.0</td>\n",
       "      <td>0.0</td>\n",
       "      <td>0.0</td>\n",
       "      <td>0.0</td>\n",
       "    </tr>\n",
       "    <tr>\n",
       "      <th>3</th>\n",
       "      <td>0.0</td>\n",
       "      <td>0.0</td>\n",
       "      <td>0.0</td>\n",
       "      <td>0.000000</td>\n",
       "      <td>0.000000</td>\n",
       "      <td>0.0</td>\n",
       "      <td>0.0</td>\n",
       "      <td>0.0</td>\n",
       "      <td>0.0</td>\n",
       "      <td>0.0</td>\n",
       "      <td>...</td>\n",
       "      <td>0.0</td>\n",
       "      <td>0.0</td>\n",
       "      <td>0.0</td>\n",
       "      <td>0.0</td>\n",
       "      <td>0.0</td>\n",
       "      <td>0.0</td>\n",
       "      <td>0.0</td>\n",
       "      <td>0.0</td>\n",
       "      <td>0.0</td>\n",
       "      <td>0.0</td>\n",
       "    </tr>\n",
       "    <tr>\n",
       "      <th>4</th>\n",
       "      <td>0.0</td>\n",
       "      <td>0.0</td>\n",
       "      <td>0.0</td>\n",
       "      <td>0.000000</td>\n",
       "      <td>0.000000</td>\n",
       "      <td>0.0</td>\n",
       "      <td>0.0</td>\n",
       "      <td>0.0</td>\n",
       "      <td>0.0</td>\n",
       "      <td>0.0</td>\n",
       "      <td>...</td>\n",
       "      <td>0.0</td>\n",
       "      <td>0.0</td>\n",
       "      <td>0.0</td>\n",
       "      <td>0.0</td>\n",
       "      <td>0.0</td>\n",
       "      <td>0.0</td>\n",
       "      <td>0.0</td>\n",
       "      <td>0.0</td>\n",
       "      <td>0.0</td>\n",
       "      <td>0.0</td>\n",
       "    </tr>\n",
       "    <tr>\n",
       "      <th>...</th>\n",
       "      <td>...</td>\n",
       "      <td>...</td>\n",
       "      <td>...</td>\n",
       "      <td>...</td>\n",
       "      <td>...</td>\n",
       "      <td>...</td>\n",
       "      <td>...</td>\n",
       "      <td>...</td>\n",
       "      <td>...</td>\n",
       "      <td>...</td>\n",
       "      <td>...</td>\n",
       "      <td>...</td>\n",
       "      <td>...</td>\n",
       "      <td>...</td>\n",
       "      <td>...</td>\n",
       "      <td>...</td>\n",
       "      <td>...</td>\n",
       "      <td>...</td>\n",
       "      <td>...</td>\n",
       "      <td>...</td>\n",
       "      <td>...</td>\n",
       "    </tr>\n",
       "    <tr>\n",
       "      <th>49995</th>\n",
       "      <td>0.0</td>\n",
       "      <td>0.0</td>\n",
       "      <td>0.0</td>\n",
       "      <td>0.000000</td>\n",
       "      <td>0.000000</td>\n",
       "      <td>0.0</td>\n",
       "      <td>0.0</td>\n",
       "      <td>0.0</td>\n",
       "      <td>0.0</td>\n",
       "      <td>0.0</td>\n",
       "      <td>...</td>\n",
       "      <td>0.0</td>\n",
       "      <td>0.0</td>\n",
       "      <td>0.0</td>\n",
       "      <td>0.0</td>\n",
       "      <td>0.0</td>\n",
       "      <td>0.0</td>\n",
       "      <td>0.0</td>\n",
       "      <td>0.0</td>\n",
       "      <td>0.0</td>\n",
       "      <td>0.0</td>\n",
       "    </tr>\n",
       "    <tr>\n",
       "      <th>49996</th>\n",
       "      <td>0.0</td>\n",
       "      <td>0.0</td>\n",
       "      <td>0.0</td>\n",
       "      <td>0.000000</td>\n",
       "      <td>0.000000</td>\n",
       "      <td>0.0</td>\n",
       "      <td>0.0</td>\n",
       "      <td>0.0</td>\n",
       "      <td>0.0</td>\n",
       "      <td>0.0</td>\n",
       "      <td>...</td>\n",
       "      <td>0.0</td>\n",
       "      <td>0.0</td>\n",
       "      <td>0.0</td>\n",
       "      <td>0.0</td>\n",
       "      <td>0.0</td>\n",
       "      <td>0.0</td>\n",
       "      <td>0.0</td>\n",
       "      <td>0.0</td>\n",
       "      <td>0.0</td>\n",
       "      <td>0.0</td>\n",
       "    </tr>\n",
       "    <tr>\n",
       "      <th>49997</th>\n",
       "      <td>0.0</td>\n",
       "      <td>0.0</td>\n",
       "      <td>0.0</td>\n",
       "      <td>0.000000</td>\n",
       "      <td>0.000000</td>\n",
       "      <td>0.0</td>\n",
       "      <td>0.0</td>\n",
       "      <td>0.0</td>\n",
       "      <td>0.0</td>\n",
       "      <td>0.0</td>\n",
       "      <td>...</td>\n",
       "      <td>0.0</td>\n",
       "      <td>0.0</td>\n",
       "      <td>0.0</td>\n",
       "      <td>0.0</td>\n",
       "      <td>0.0</td>\n",
       "      <td>0.0</td>\n",
       "      <td>0.0</td>\n",
       "      <td>0.0</td>\n",
       "      <td>0.0</td>\n",
       "      <td>0.0</td>\n",
       "    </tr>\n",
       "    <tr>\n",
       "      <th>49998</th>\n",
       "      <td>0.0</td>\n",
       "      <td>0.0</td>\n",
       "      <td>0.0</td>\n",
       "      <td>0.000000</td>\n",
       "      <td>0.000000</td>\n",
       "      <td>0.0</td>\n",
       "      <td>0.0</td>\n",
       "      <td>0.0</td>\n",
       "      <td>0.0</td>\n",
       "      <td>0.0</td>\n",
       "      <td>...</td>\n",
       "      <td>0.0</td>\n",
       "      <td>0.0</td>\n",
       "      <td>0.0</td>\n",
       "      <td>0.0</td>\n",
       "      <td>0.0</td>\n",
       "      <td>0.0</td>\n",
       "      <td>0.0</td>\n",
       "      <td>0.0</td>\n",
       "      <td>0.0</td>\n",
       "      <td>0.0</td>\n",
       "    </tr>\n",
       "    <tr>\n",
       "      <th>49999</th>\n",
       "      <td>0.0</td>\n",
       "      <td>0.0</td>\n",
       "      <td>0.0</td>\n",
       "      <td>0.000000</td>\n",
       "      <td>0.000000</td>\n",
       "      <td>0.0</td>\n",
       "      <td>0.0</td>\n",
       "      <td>0.0</td>\n",
       "      <td>0.0</td>\n",
       "      <td>0.0</td>\n",
       "      <td>...</td>\n",
       "      <td>0.0</td>\n",
       "      <td>0.0</td>\n",
       "      <td>0.0</td>\n",
       "      <td>0.0</td>\n",
       "      <td>0.0</td>\n",
       "      <td>0.0</td>\n",
       "      <td>0.0</td>\n",
       "      <td>0.0</td>\n",
       "      <td>0.0</td>\n",
       "      <td>0.0</td>\n",
       "    </tr>\n",
       "  </tbody>\n",
       "</table>\n",
       "<p>50000 rows × 549 columns</p>\n",
       "</div>"
      ],
      "text/plain": [
       "        2d   3d  ability    access   account  accurate  action  active  \\\n",
       "0      0.0  0.0      0.0  0.736404  0.000000       0.0     0.0     0.0   \n",
       "1      0.0  0.0      0.0  0.000000  0.230273       0.0     0.0     0.0   \n",
       "2      0.0  0.0      0.0  0.000000  0.000000       0.0     0.0     0.0   \n",
       "3      0.0  0.0      0.0  0.000000  0.000000       0.0     0.0     0.0   \n",
       "4      0.0  0.0      0.0  0.000000  0.000000       0.0     0.0     0.0   \n",
       "...    ...  ...      ...       ...       ...       ...     ...     ...   \n",
       "49995  0.0  0.0      0.0  0.000000  0.000000       0.0     0.0     0.0   \n",
       "49996  0.0  0.0      0.0  0.000000  0.000000       0.0     0.0     0.0   \n",
       "49997  0.0  0.0      0.0  0.000000  0.000000       0.0     0.0     0.0   \n",
       "49998  0.0  0.0      0.0  0.000000  0.000000       0.0     0.0     0.0   \n",
       "49999  0.0  0.0      0.0  0.000000  0.000000       0.0     0.0     0.0   \n",
       "\n",
       "       adaptive  additional  ...  view  vision  visual  wave  weak  wide  \\\n",
       "0           0.0         0.0  ...   0.0     0.0     0.0   0.0   0.0   0.0   \n",
       "1           0.0         0.0  ...   0.0     0.0     0.0   0.0   0.0   0.0   \n",
       "2           0.0         0.0  ...   0.0     0.0     0.0   0.0   0.0   0.0   \n",
       "3           0.0         0.0  ...   0.0     0.0     0.0   0.0   0.0   0.0   \n",
       "4           0.0         0.0  ...   0.0     0.0     0.0   0.0   0.0   0.0   \n",
       "...         ...         ...  ...   ...     ...     ...   ...   ...   ...   \n",
       "49995       0.0         0.0  ...   0.0     0.0     0.0   0.0   0.0   0.0   \n",
       "49996       0.0         0.0  ...   0.0     0.0     0.0   0.0   0.0   0.0   \n",
       "49997       0.0         0.0  ...   0.0     0.0     0.0   0.0   0.0   0.0   \n",
       "49998       0.0         0.0  ...   0.0     0.0     0.0   0.0   0.0   0.0   \n",
       "49999       0.0         0.0  ...   0.0     0.0     0.0   0.0   0.0   0.0   \n",
       "\n",
       "       widely  works  years  zero  \n",
       "0         0.0    0.0    0.0   0.0  \n",
       "1         0.0    0.0    0.0   0.0  \n",
       "2         0.0    0.0    0.0   0.0  \n",
       "3         0.0    0.0    0.0   0.0  \n",
       "4         0.0    0.0    0.0   0.0  \n",
       "...       ...    ...    ...   ...  \n",
       "49995     0.0    0.0    0.0   0.0  \n",
       "49996     0.0    0.0    0.0   0.0  \n",
       "49997     0.0    0.0    0.0   0.0  \n",
       "49998     0.0    0.0    0.0   0.0  \n",
       "49999     0.0    0.0    0.0   0.0  \n",
       "\n",
       "[50000 rows x 549 columns]"
      ]
     },
     "execution_count": 196,
     "metadata": {},
     "output_type": "execute_result"
    }
   ],
   "source": [
    "vec"
   ]
  },
  {
   "cell_type": "code",
   "execution_count": 197,
   "id": "dc3e2289",
   "metadata": {},
   "outputs": [
    {
     "data": {
      "text/plain": [
       "TruncatedSVD()"
      ]
     },
     "execution_count": 197,
     "metadata": {},
     "output_type": "execute_result"
    }
   ],
   "source": [
    "topic_num = 2\n",
    "lsa = TruncatedSVD(n_components=topic_num)\n",
    "lsa.fit(doc_term_matrix)"
   ]
  },
  {
   "cell_type": "code",
   "execution_count": 198,
   "id": "5fb9fc17",
   "metadata": {},
   "outputs": [],
   "source": [
    "W = lsa.transform(doc_term_matrix)\n",
    "H = lsa.components_"
   ]
  },
  {
   "cell_type": "code",
   "execution_count": 199,
   "id": "21abd7cb",
   "metadata": {},
   "outputs": [],
   "source": [
    "topics = [[], []]\n",
    "for i in range(len(H[0])):\n",
    "    if H[0][i] > H[1][i]:\n",
    "        topics[0].append(feature_names[i])\n",
    "    else:\n",
    "        topics[1].append(feature_names[i])"
   ]
  },
  {
   "cell_type": "code",
   "execution_count": 200,
   "id": "34526be9",
   "metadata": {},
   "outputs": [
    {
     "name": "stdout",
     "output_type": "stream",
     "text": [
      "['2d', '3d', 'ability', 'access', 'account', 'accurate', 'action', 'active']\n",
      "['agreement', 'band', 'black', 'calculations', 'charge', 'coupled', 'coupling', 'dark']\n"
     ]
    }
   ],
   "source": [
    "print(topics[0][:8])\n",
    "print(topics[1][:8])"
   ]
  },
  {
   "cell_type": "code",
   "execution_count": 201,
   "id": "04a0c0cf",
   "metadata": {},
   "outputs": [
    {
     "name": "stdout",
     "output_type": "stream",
     "text": [
      "495\n",
      "54\n"
     ]
    }
   ],
   "source": [
    "print(len(topics[0]))\n",
    "print(len(topics[1]))"
   ]
  },
  {
   "cell_type": "code",
   "execution_count": 202,
   "id": "541b38bd",
   "metadata": {},
   "outputs": [],
   "source": [
    "xs = W[:, 0]\n",
    "ys = W[:, 1]"
   ]
  },
  {
   "cell_type": "code",
   "execution_count": 203,
   "id": "62e39fcc",
   "metadata": {},
   "outputs": [],
   "source": [
    "# fig = plt.figure(figsize=(10, 7))\n",
    "# ax = plt.axes(projection='3d')\n",
    "# ax.scatter3D(WT[2], WT[0], WT[1])\n",
    "# plt.show()"
   ]
  },
  {
   "cell_type": "code",
   "execution_count": 204,
   "id": "265a009a",
   "metadata": {},
   "outputs": [
    {
     "data": {
      "image/png": "[encoded data removed]",
      "text/plain": [
       "<Figure size 432x288 with 1 Axes>"
      ]
     },
     "metadata": {
      "needs_background": "light"
     },
     "output_type": "display_data"
    }
   ],
   "source": [
    "fig = plt.scatter(xs, ys)"
   ]
  },
  {
   "cell_type": "code",
   "execution_count": 205,
   "id": "65db4a45",
   "metadata": {},
   "outputs": [
    {
     "data": {
      "text/plain": [
       "KMeans(n_clusters=5, n_init=20, random_state=20)"
      ]
     },
     "execution_count": 205,
     "metadata": {},
     "output_type": "execute_result"
    }
   ],
   "source": [
    "km = KMeans(n_clusters=5,\n",
    "            random_state=20,\n",
    "            n_init=20)\n",
    "km.fit(W)"
   ]
  },
  {
   "cell_type": "code",
   "execution_count": 206,
   "id": "b894c353",
   "metadata": {},
   "outputs": [],
   "source": [
    "num_clusters = 5\n",
    "X = []\n",
    "for i in range(num_clusters):\n",
    "    X.append([])\n",
    "    \n",
    "for i in range(50000):\n",
    "    X[km.labels_[i]].append(W[i].tolist())"
   ]
  },
  {
   "cell_type": "code",
   "execution_count": 207,
   "id": "98f07351",
   "metadata": {},
   "outputs": [],
   "source": [
    "color = {\n",
    "    1: 'red',\n",
    "    2: 'green',\n",
    "    3: 'blue',\n",
    "    4: 'yellow',\n",
    "    5: 'pink'\n",
    "}"
   ]
  },
  {
   "cell_type": "code",
   "execution_count": 208,
   "id": "96ba673e",
   "metadata": {},
   "outputs": [
    {
     "data": {
      "image/png": "[encoded data removed]",
      "text/plain": [
       "<Figure size 432x288 with 1 Axes>"
      ]
     },
     "metadata": {
      "needs_background": "light"
     },
     "output_type": "display_data"
    }
   ],
   "source": [
    "for i in range(num_clusters):\n",
    "    w = np.array(X[i])\n",
    "    xs = w[:, 0]\n",
    "    ys = w[:, 1]\n",
    "    plt.scatter(xs, ys, c=color[i+1], s=2)\n",
    "plt.show()"
   ]
  },
  {
   "cell_type": "code",
   "execution_count": null,
   "id": "1dbf2089",
   "metadata": {},
   "outputs": [],
   "source": []
  }
 ],
 "metadata": {
  "kernelspec": {
   "display_name": "Python 3 (unsupervised)",
   "language": "python",
   "name": "unsupervised"
  },
  "language_info": {
   "codemirror_mode": {
    "name": "ipython",
    "version": 3
   },
   "file_extension": ".py",
   "mimetype": "text/x-python",
   "name": "python",
   "nbconvert_exporter": "python",
   "pygments_lexer": "ipython3",
   "version": "3.8.13"
  }
 },
 "nbformat": 4,
 "nbformat_minor": 5
}
