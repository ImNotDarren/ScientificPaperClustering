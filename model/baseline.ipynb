{
 "cells": [
  {
   "cell_type": "code",
   "execution_count": 1,
   "id": "d2783f6e",
   "metadata": {},
   "outputs": [],
   "source": [
    "import pandas as pd\n",
    "import numpy as np\n",
    "from sklearn.feature_extraction.text import TfidfVectorizer\n",
    "from sklearn.decomposition import TruncatedSVD\n",
    "import pickle"
   ]
  },
  {
   "cell_type": "code",
   "execution_count": 8,
   "id": "d505d757",
   "metadata": {},
   "outputs": [],
   "source": [
    "df = pd.read_csv('../dataset/arxiv_sampled.csv')"
   ]
  },
  {
   "cell_type": "code",
   "execution_count": 9,
   "id": "b90c19e9",
   "metadata": {},
   "outputs": [],
   "source": [
    "# extract all abstracts and replace \\n token with a space\n",
    "corpus = []\n",
    "for index, row in df.iterrows():\n",
    "    text = row.abstract\n",
    "    text = text.replace('\\n', ' ')\n",
    "    corpus.append(text)"
   ]
  },
  {
   "cell_type": "code",
   "execution_count": null,
   "id": "893f0968",
   "metadata": {},
   "outputs": [],
   "source": [
    "vectorizer = TfidfVectorizer(stop_words='english', min_df = 0.02)\n",
    "doc_term_matrix = vectorizer.fit_transform(corpus)\n",
    "vec = pd.DataFrame(doc_term_matrix.toarray(),\n",
    "                   columns=cv.get_feature_names_out())\n",
    "feature_names = vectorizer.get_feature_names_out()\n",
    "\n",
    "lsa = TruncatedSVD(10)\n",
    "lsa.fit(doc_term_matrix)"
   ]
  },
  {
   "cell_type": "code",
   "execution_count": 3,
   "id": "48a5abdd",
   "metadata": {},
   "outputs": [
    {
     "data": {
      "text/plain": [
       "TruncatedSVD(n_components=10)"
      ]
     },
     "execution_count": 3,
     "metadata": {},
     "output_type": "execute_result"
    }
   ],
   "source": [
    "lsa = TruncatedSVD(10)\n",
    "lsa.fit(doc_term_matrix)"
   ]
  },
  {
   "cell_type": "code",
   "execution_count": 4,
   "id": "315618ec",
   "metadata": {},
   "outputs": [
    {
     "data": {
      "text/plain": [
       "array([[ 2.30405236e-01, -9.76976432e-02,  4.74351184e-02, ...,\n",
       "        -1.87629944e-04, -1.47519224e-02,  7.49334450e-02],\n",
       "       [ 2.82276598e-01,  9.65544317e-02, -8.42902708e-02, ...,\n",
       "        -6.31008934e-02, -2.52605586e-02, -8.52940556e-03],\n",
       "       [ 2.60082479e-01,  1.96626755e-01, -1.14501201e-01, ...,\n",
       "         1.31096920e-01,  8.33137161e-03,  4.54521379e-03],\n",
       "       ...,\n",
       "       [ 1.67610624e-01, -5.40508850e-02, -4.34500886e-02, ...,\n",
       "         6.33386825e-03,  5.14886828e-03, -2.50291247e-02],\n",
       "       [ 2.29151112e-01, -1.05344657e-01, -5.09954798e-02, ...,\n",
       "         8.17922216e-02, -1.52958819e-01,  1.40172829e-02],\n",
       "       [ 1.57887881e-01,  1.28730794e-01, -2.79778912e-02, ...,\n",
       "        -6.61036748e-02, -6.86456246e-02, -2.25736213e-02]])"
      ]
     },
     "execution_count": 4,
     "metadata": {},
     "output_type": "execute_result"
    }
   ],
   "source": [
    "lsa.transform(doc_term_matrix)"
   ]
  },
  {
   "cell_type": "code",
   "execution_count": null,
   "id": "b4b7234d",
   "metadata": {},
   "outputs": [],
   "source": []
  }
 ],
 "metadata": {
  "kernelspec": {
   "display_name": "Python 3 (unsupervised)",
   "language": "python",
   "name": "unsupervised"
  },
  "language_info": {
   "codemirror_mode": {
    "name": "ipython",
    "version": 3
   },
   "file_extension": ".py",
   "mimetype": "text/x-python",
   "name": "python",
   "nbconvert_exporter": "python",
   "pygments_lexer": "ipython3",
   "version": "3.8.13"
  }
 },
 "nbformat": 4,
 "nbformat_minor": 5
}
