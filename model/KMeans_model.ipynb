{
 "cells": [
  {
   "cell_type": "code",
   "execution_count": 1,
   "id": "8ed532a0",
   "metadata": {},
   "outputs": [],
   "source": [
    "import pandas as pd\n",
    "import numpy as np\n",
    "import string\n",
    "from tqdm import tqdm\n",
    "from sklearn.feature_extraction.text import TfidfVectorizer\n",
    "from sklearn.decomposition import TruncatedSVD, NMF, PCA\n",
    "from sklearn.cluster import KMeans\n",
    "import spacy\n",
    "from spacy.lang.en.stop_words import STOP_WORDS\n",
    "import en_core_sci_lg\n",
    "from nltk.stem import PorterStemmer\n",
    "import matplotlib.pyplot as plt\n",
    "import seaborn as sns\n",
    "import pickle\n",
    "\n",
    "%matplotlib inline"
   ]
  },
  {
   "cell_type": "code",
   "execution_count": 2,
   "id": "2311412d",
   "metadata": {},
   "outputs": [],
   "source": [
    "df = pd.read_csv('../dataset/arxiv_sampled.csv')"
   ]
  },
  {
   "cell_type": "code",
   "execution_count": 3,
   "id": "9d2f51ba",
   "metadata": {},
   "outputs": [
    {
     "data": {
      "text/html": [
       "<div>\n",
       "<style scoped>\n",
       "    .dataframe tbody tr th:only-of-type {\n",
       "        vertical-align: middle;\n",
       "    }\n",
       "\n",
       "    .dataframe tbody tr th {\n",
       "        vertical-align: top;\n",
       "    }\n",
       "\n",
       "    .dataframe thead th {\n",
       "        text-align: right;\n",
       "    }\n",
       "</style>\n",
       "<table border=\"1\" class=\"dataframe\">\n",
       "  <thead>\n",
       "    <tr style=\"text-align: right;\">\n",
       "      <th></th>\n",
       "      <th>id</th>\n",
       "      <th>authors</th>\n",
       "      <th>title</th>\n",
       "      <th>categories</th>\n",
       "      <th>abstract</th>\n",
       "      <th>update_date</th>\n",
       "      <th>latest_version_year</th>\n",
       "    </tr>\n",
       "  </thead>\n",
       "  <tbody>\n",
       "    <tr>\n",
       "      <th>0</th>\n",
       "      <td>2110.14541</td>\n",
       "      <td>Yoel Bokobza, Ron Dabora and Kobi Cohen</td>\n",
       "      <td>Deep Reinforcement Learning for Simultaneous S...</td>\n",
       "      <td>['cs.IT', 'cs.LG', 'math.IT']</td>\n",
       "      <td>We consider the problem of dynamic spectrum ...</td>\n",
       "      <td>2021-10-28</td>\n",
       "      <td>2021</td>\n",
       "    </tr>\n",
       "    <tr>\n",
       "      <th>1</th>\n",
       "      <td>2209.05330</td>\n",
       "      <td>Erik Fitzke, Florian Niederschuh, and Thomas W...</td>\n",
       "      <td>Generating Functions and Automatic Differentia...</td>\n",
       "      <td>['quant-ph']</td>\n",
       "      <td>A simple and versatile method to simulate th...</td>\n",
       "      <td>2022-09-13</td>\n",
       "      <td>2022</td>\n",
       "    </tr>\n",
       "    <tr>\n",
       "      <th>2</th>\n",
       "      <td>2105.12470</td>\n",
       "      <td>Carlos Vega, Miguel Bello, Diego Porras and Al...</td>\n",
       "      <td>Qubit-photon bound states in topological waveg...</td>\n",
       "      <td>['quant-ph']</td>\n",
       "      <td>Quantum emitters interacting with photonic b...</td>\n",
       "      <td>2021-11-29</td>\n",
       "      <td>2021</td>\n",
       "    </tr>\n",
       "    <tr>\n",
       "      <th>3</th>\n",
       "      <td>2205.06071</td>\n",
       "      <td>Rylee Alanza Lyman</td>\n",
       "      <td>On Whitehead's cut vertex lemma</td>\n",
       "      <td>['math.GR', 'math.GT']</td>\n",
       "      <td>One version of Whitehead's famous cut vertex...</td>\n",
       "      <td>2022-09-13</td>\n",
       "      <td>2022</td>\n",
       "    </tr>\n",
       "    <tr>\n",
       "      <th>4</th>\n",
       "      <td>2205.10915</td>\n",
       "      <td>Chenyang Xu, Ziquan Zhuang</td>\n",
       "      <td>Stable degenerations of singularities</td>\n",
       "      <td>['math.AG', 'math.AC', 'math.DG']</td>\n",
       "      <td>For any Kawamata log terminal (klt) singular...</td>\n",
       "      <td>2022-05-24</td>\n",
       "      <td>2022</td>\n",
       "    </tr>\n",
       "  </tbody>\n",
       "</table>\n",
       "</div>"
      ],
      "text/plain": [
       "           id                                            authors  \\\n",
       "0  2110.14541            Yoel Bokobza, Ron Dabora and Kobi Cohen   \n",
       "1  2209.05330  Erik Fitzke, Florian Niederschuh, and Thomas W...   \n",
       "2  2105.12470  Carlos Vega, Miguel Bello, Diego Porras and Al...   \n",
       "3  2205.06071                                 Rylee Alanza Lyman   \n",
       "4  2205.10915                         Chenyang Xu, Ziquan Zhuang   \n",
       "\n",
       "                                               title  \\\n",
       "0  Deep Reinforcement Learning for Simultaneous S...   \n",
       "1  Generating Functions and Automatic Differentia...   \n",
       "2  Qubit-photon bound states in topological waveg...   \n",
       "3                    On Whitehead's cut vertex lemma   \n",
       "4              Stable degenerations of singularities   \n",
       "\n",
       "                          categories  \\\n",
       "0      ['cs.IT', 'cs.LG', 'math.IT']   \n",
       "1                       ['quant-ph']   \n",
       "2                       ['quant-ph']   \n",
       "3             ['math.GR', 'math.GT']   \n",
       "4  ['math.AG', 'math.AC', 'math.DG']   \n",
       "\n",
       "                                            abstract update_date  \\\n",
       "0    We consider the problem of dynamic spectrum ...  2021-10-28   \n",
       "1    A simple and versatile method to simulate th...  2022-09-13   \n",
       "2    Quantum emitters interacting with photonic b...  2021-11-29   \n",
       "3    One version of Whitehead's famous cut vertex...  2022-09-13   \n",
       "4    For any Kawamata log terminal (klt) singular...  2022-05-24   \n",
       "\n",
       "   latest_version_year  \n",
       "0                 2021  \n",
       "1                 2022  \n",
       "2                 2021  \n",
       "3                 2022  \n",
       "4                 2022  "
      ]
     },
     "execution_count": 3,
     "metadata": {},
     "output_type": "execute_result"
    }
   ],
   "source": [
    "df.head()"
   ]
  },
  {
   "cell_type": "code",
   "execution_count": 4,
   "id": "17cda140",
   "metadata": {},
   "outputs": [],
   "source": [
    "parser = en_core_sci_lg.load()\n",
    "stop_words = list(STOP_WORDS)\n",
    "stop_words += ['able', 'ability', 'accord', 'cause']\n",
    "punctuations = string.punctuation\n",
    "\n",
    "def tokenizer(s):\n",
    "    tokens = parser(s)\n",
    "    all_tokens = []\n",
    "    for t in tokens:\n",
    "        token = t.lemma_.lower()\n",
    "        if token not in stop_words and token not in punctuations\\\n",
    "            and token != '\\n':\n",
    "            all_tokens.append(token)\n",
    "    return ' '.join(all_tokens)"
   ]
  },
  {
   "cell_type": "code",
   "execution_count": 6,
   "id": "f3784f45",
   "metadata": {},
   "outputs": [
    {
     "name": "stderr",
     "output_type": "stream",
     "text": [
      "100%|█████████████████████████████████████| 50000/50000 [28:55<00:00, 28.82it/s]\n"
     ]
    }
   ],
   "source": [
    "tqdm.pandas()\n",
    "df['processed_abstract'] = df.abstract.progress_apply(tokenizer)"
   ]
  },
  {
   "cell_type": "code",
   "execution_count": 7,
   "id": "620eb1d9",
   "metadata": {},
   "outputs": [],
   "source": [
    "corpus = df.processed_abstract.values\n",
    "\n",
    "vectorizer = TfidfVectorizer(min_df=0.016,\n",
    "                             max_df=0.05)\n",
    "doc_term_matrix = vectorizer.fit_transform(corpus)\n",
    "vec = pd.DataFrame(doc_term_matrix.toarray(),\n",
    "                   columns=vectorizer.get_feature_names_out())\n",
    "feature_names = vectorizer.get_feature_names_out()"
   ]
  },
  {
   "cell_type": "code",
   "execution_count": 8,
   "id": "19fca7c3",
   "metadata": {},
   "outputs": [
    {
     "data": {
      "text/html": [
       "<div>\n",
       "<style scoped>\n",
       "    .dataframe tbody tr th:only-of-type {\n",
       "        vertical-align: middle;\n",
       "    }\n",
       "\n",
       "    .dataframe tbody tr th {\n",
       "        vertical-align: top;\n",
       "    }\n",
       "\n",
       "    .dataframe thead th {\n",
       "        text-align: right;\n",
       "    }\n",
       "</style>\n",
       "<table border=\"1\" class=\"dataframe\">\n",
       "  <thead>\n",
       "    <tr style=\"text-align: right;\">\n",
       "      <th></th>\n",
       "      <th>100</th>\n",
       "      <th>20</th>\n",
       "      <th>2d</th>\n",
       "      <th>3d</th>\n",
       "      <th>access</th>\n",
       "      <th>account</th>\n",
       "      <th>accurate</th>\n",
       "      <th>accurately</th>\n",
       "      <th>act</th>\n",
       "      <th>action</th>\n",
       "      <th>...</th>\n",
       "      <th>volume</th>\n",
       "      <th>wave</th>\n",
       "      <th>weak</th>\n",
       "      <th>weight</th>\n",
       "      <th>well</th>\n",
       "      <th>wide</th>\n",
       "      <th>widely</th>\n",
       "      <th>year</th>\n",
       "      <th>yield</th>\n",
       "      <th>zero</th>\n",
       "    </tr>\n",
       "  </thead>\n",
       "  <tbody>\n",
       "    <tr>\n",
       "      <th>0</th>\n",
       "      <td>0.0</td>\n",
       "      <td>0.0</td>\n",
       "      <td>0.0</td>\n",
       "      <td>0.0</td>\n",
       "      <td>0.602209</td>\n",
       "      <td>0.000000</td>\n",
       "      <td>0.0</td>\n",
       "      <td>0.0</td>\n",
       "      <td>0.000000</td>\n",
       "      <td>0.092776</td>\n",
       "      <td>...</td>\n",
       "      <td>0.000000</td>\n",
       "      <td>0.0</td>\n",
       "      <td>0.0</td>\n",
       "      <td>0.0</td>\n",
       "      <td>0.0</td>\n",
       "      <td>0.0</td>\n",
       "      <td>0.0</td>\n",
       "      <td>0.0</td>\n",
       "      <td>0.0</td>\n",
       "      <td>0.0</td>\n",
       "    </tr>\n",
       "    <tr>\n",
       "      <th>1</th>\n",
       "      <td>0.0</td>\n",
       "      <td>0.0</td>\n",
       "      <td>0.0</td>\n",
       "      <td>0.0</td>\n",
       "      <td>0.000000</td>\n",
       "      <td>0.098619</td>\n",
       "      <td>0.0</td>\n",
       "      <td>0.0</td>\n",
       "      <td>0.000000</td>\n",
       "      <td>0.000000</td>\n",
       "      <td>...</td>\n",
       "      <td>0.000000</td>\n",
       "      <td>0.0</td>\n",
       "      <td>0.0</td>\n",
       "      <td>0.0</td>\n",
       "      <td>0.0</td>\n",
       "      <td>0.0</td>\n",
       "      <td>0.0</td>\n",
       "      <td>0.0</td>\n",
       "      <td>0.0</td>\n",
       "      <td>0.0</td>\n",
       "    </tr>\n",
       "    <tr>\n",
       "      <th>2</th>\n",
       "      <td>0.0</td>\n",
       "      <td>0.0</td>\n",
       "      <td>0.0</td>\n",
       "      <td>0.0</td>\n",
       "      <td>0.000000</td>\n",
       "      <td>0.000000</td>\n",
       "      <td>0.0</td>\n",
       "      <td>0.0</td>\n",
       "      <td>0.000000</td>\n",
       "      <td>0.000000</td>\n",
       "      <td>...</td>\n",
       "      <td>0.000000</td>\n",
       "      <td>0.0</td>\n",
       "      <td>0.0</td>\n",
       "      <td>0.0</td>\n",
       "      <td>0.0</td>\n",
       "      <td>0.0</td>\n",
       "      <td>0.0</td>\n",
       "      <td>0.0</td>\n",
       "      <td>0.0</td>\n",
       "      <td>0.0</td>\n",
       "    </tr>\n",
       "    <tr>\n",
       "      <th>3</th>\n",
       "      <td>0.0</td>\n",
       "      <td>0.0</td>\n",
       "      <td>0.0</td>\n",
       "      <td>0.0</td>\n",
       "      <td>0.000000</td>\n",
       "      <td>0.000000</td>\n",
       "      <td>0.0</td>\n",
       "      <td>0.0</td>\n",
       "      <td>0.255613</td>\n",
       "      <td>0.000000</td>\n",
       "      <td>...</td>\n",
       "      <td>0.000000</td>\n",
       "      <td>0.0</td>\n",
       "      <td>0.0</td>\n",
       "      <td>0.0</td>\n",
       "      <td>0.0</td>\n",
       "      <td>0.0</td>\n",
       "      <td>0.0</td>\n",
       "      <td>0.0</td>\n",
       "      <td>0.0</td>\n",
       "      <td>0.0</td>\n",
       "    </tr>\n",
       "    <tr>\n",
       "      <th>4</th>\n",
       "      <td>0.0</td>\n",
       "      <td>0.0</td>\n",
       "      <td>0.0</td>\n",
       "      <td>0.0</td>\n",
       "      <td>0.000000</td>\n",
       "      <td>0.000000</td>\n",
       "      <td>0.0</td>\n",
       "      <td>0.0</td>\n",
       "      <td>0.000000</td>\n",
       "      <td>0.000000</td>\n",
       "      <td>...</td>\n",
       "      <td>0.311555</td>\n",
       "      <td>0.0</td>\n",
       "      <td>0.0</td>\n",
       "      <td>0.0</td>\n",
       "      <td>0.0</td>\n",
       "      <td>0.0</td>\n",
       "      <td>0.0</td>\n",
       "      <td>0.0</td>\n",
       "      <td>0.0</td>\n",
       "      <td>0.0</td>\n",
       "    </tr>\n",
       "  </tbody>\n",
       "</table>\n",
       "<p>5 rows × 699 columns</p>\n",
       "</div>"
      ],
      "text/plain": [
       "   100   20   2d   3d    access   account  accurate  accurately       act  \\\n",
       "0  0.0  0.0  0.0  0.0  0.602209  0.000000       0.0         0.0  0.000000   \n",
       "1  0.0  0.0  0.0  0.0  0.000000  0.098619       0.0         0.0  0.000000   \n",
       "2  0.0  0.0  0.0  0.0  0.000000  0.000000       0.0         0.0  0.000000   \n",
       "3  0.0  0.0  0.0  0.0  0.000000  0.000000       0.0         0.0  0.255613   \n",
       "4  0.0  0.0  0.0  0.0  0.000000  0.000000       0.0         0.0  0.000000   \n",
       "\n",
       "     action  ...    volume  wave  weak  weight  well  wide  widely  year  \\\n",
       "0  0.092776  ...  0.000000   0.0   0.0     0.0   0.0   0.0     0.0   0.0   \n",
       "1  0.000000  ...  0.000000   0.0   0.0     0.0   0.0   0.0     0.0   0.0   \n",
       "2  0.000000  ...  0.000000   0.0   0.0     0.0   0.0   0.0     0.0   0.0   \n",
       "3  0.000000  ...  0.000000   0.0   0.0     0.0   0.0   0.0     0.0   0.0   \n",
       "4  0.000000  ...  0.311555   0.0   0.0     0.0   0.0   0.0     0.0   0.0   \n",
       "\n",
       "   yield  zero  \n",
       "0    0.0   0.0  \n",
       "1    0.0   0.0  \n",
       "2    0.0   0.0  \n",
       "3    0.0   0.0  \n",
       "4    0.0   0.0  \n",
       "\n",
       "[5 rows x 699 columns]"
      ]
     },
     "execution_count": 8,
     "metadata": {},
     "output_type": "execute_result"
    }
   ],
   "source": [
    "vec.head()"
   ]
  },
  {
   "cell_type": "code",
   "execution_count": 9,
   "id": "66f421a2",
   "metadata": {},
   "outputs": [
    {
     "data": {
      "text/plain": [
       "TruncatedSVD(n_components=20)"
      ]
     },
     "execution_count": 9,
     "metadata": {},
     "output_type": "execute_result"
    }
   ],
   "source": [
    "topic_num = 20\n",
    "lsa = TruncatedSVD(n_components=topic_num)\n",
    "lsa.fit(doc_term_matrix)"
   ]
  },
  {
   "cell_type": "code",
   "execution_count": 10,
   "id": "f956efee",
   "metadata": {},
   "outputs": [],
   "source": [
    "W = lsa.transform(doc_term_matrix)\n",
    "H = lsa.components_"
   ]
  },
  {
   "cell_type": "code",
   "execution_count": 11,
   "id": "ff76a0d8",
   "metadata": {},
   "outputs": [],
   "source": [
    "topics = []\n",
    "for i in range(topic_num):\n",
    "    topics.append([])\n",
    "\n",
    "HT = np.transpose(H)\n",
    "    \n",
    "for i in range(len(HT)):\n",
    "    l = HT[i].tolist()\n",
    "    max_index = l.index(max(l))\n",
    "    topics[max_index].append(feature_names[i])"
   ]
  },
  {
   "cell_type": "code",
   "execution_count": 12,
   "id": "d7ab6ae0",
   "metadata": {},
   "outputs": [
    {
     "name": "stdout",
     "output_type": "stream",
     "text": [
      "['100', '20', '2d', 'account', 'accurate', 'accurately', 'active', 'adapt', 'adaptive', 'add']\n",
      "['angle', 'calculation', 'charge', 'coupling', 'dependence', 'electron', 'electronic', 'fluctuation', 'flux', 'hamiltonian']\n",
      "['algebraic', 'analytic', 'asymptotic', 'certain', 'coefficient', 'compact', 'complete', 'conjecture', 'construction', 'converge']\n",
      "['binary', 'candidate', 'cluster', 'constrain', 'core', 'early', 'evolution', 'fit', 'formation', 'fraction']\n",
      "['automatic', 'com', 'content', 'fine', 'github', 'https', 'module', 'pre', 'recognition', 'semantic']\n",
      "['access', 'activity', 'communication', 'computing', 'demand', 'device', 'distribute', 'experience', 'online', 'platform']\n",
      "['mathcal']\n",
      "['answer', 'et', 'orbit', 'relation', 'sequence', 'spin', 'stochastic']\n",
      "['generation', 'language', 'natural', 'program', 'question', 'resource', 'social']\n",
      "['3d', 'action', 'agent', 'background', 'black', 'decision', 'entropy', 'environment', 'gravitational', 'gravity']\n",
      "['cloud', 'tensor', 'user']\n",
      "['act', 'algebra', 'category', 'interface', 'medium', 'operator']\n",
      "['carlo', 'collision', 'dark', 'decay', 'detector', 'final', 'heavy', 'matter', 'monte', 'observable']\n",
      "['convergence', 'flow', 'fluid', 'gradient', 'velocity']\n",
      "['band', 'loss', 'noise', 'perturbation', 'robust', 'robustness', 'spectral', 'spectrum']\n",
      "['amplitude', 'couple', 'frequency', 'light', 'mode', 'nonlinear', 'optical', 'propagation', 'realize', 'wave']\n",
      "['alpha', 'complexity', 'edge', 'event', 'gamma', 'log', 'memory', 'minimum', 'ray', 'tree']\n",
      "['adversarial', 'attack', 'classify', 'curve', 'degree', 'detect', 'development', 'emission', 'face', 'polynomial']\n",
      "['attention', 'bias', 'boundary', 'break', 'channel', 'cross', 'delta', 'embedding', 'gauge', 'invariant']\n",
      "['distance', 'frame', 'gaussian', 'human', 'moment', 'motion', 'pose', 'probability', 'random', 'temporal']\n"
     ]
    }
   ],
   "source": [
    "for i, t in enumerate(topics):\n",
    "    print(topics[i][:10])"
   ]
  },
  {
   "cell_type": "code",
   "execution_count": 13,
   "id": "6e749528",
   "metadata": {},
   "outputs": [],
   "source": [
    "Xs = []\n",
    "for i in range(topic_num):\n",
    "    Xs.append(W[:, i].tolist())"
   ]
  },
  {
   "cell_type": "code",
   "execution_count": 14,
   "id": "6f4b28fa",
   "metadata": {},
   "outputs": [],
   "source": [
    "XsT = np.transpose(Xs)"
   ]
  },
  {
   "cell_type": "code",
   "execution_count": 15,
   "id": "e551d718",
   "metadata": {},
   "outputs": [],
   "source": [
    "# tune k\n",
    "inertia = []\n",
    "\n",
    "for num_clusters in range(1, 21):\n",
    "    km = KMeans(n_clusters=num_clusters,\n",
    "                random_state=42,\n",
    "                n_init=20)\n",
    "    km.fit(XsT)\n",
    "    inertia.append(km.inertia_)"
   ]
  },
  {
   "cell_type": "code",
   "execution_count": 16,
   "id": "96051f3c",
   "metadata": {},
   "outputs": [
    {
     "data": {
      "image/png": "[encoded data removed]",
      "text/plain": [
       "<Figure size 432x288 with 1 Axes>"
      ]
     },
     "metadata": {
      "needs_background": "light"
     },
     "output_type": "display_data"
    }
   ],
   "source": [
    "plt.plot(range(1, 21), inertia, marker='o')\n",
    "plt.grid(True)\n",
    "plt.show()"
   ]
  },
  {
   "cell_type": "code",
   "execution_count": 17,
   "id": "b2867f89",
   "metadata": {},
   "outputs": [],
   "source": [
    "km = KMeans(n_clusters=14,\n",
    "            random_state=42,\n",
    "            n_init=20)\n",
    "km.fit(XsT)\n",
    "clusters = km.labels_"
   ]
  },
  {
   "cell_type": "code",
   "execution_count": 18,
   "id": "5534ea5e",
   "metadata": {},
   "outputs": [],
   "source": [
    "pca = PCA(n_components=2, random_state=42)\n",
    "pca.fit(W)\n",
    "W_t = pca.transform(W)"
   ]
  },
  {
   "cell_type": "code",
   "execution_count": 19,
   "id": "6be632ca",
   "metadata": {},
   "outputs": [],
   "source": [
    "X = []\n",
    "for i in range(14):\n",
    "    X.append([])\n",
    "    \n",
    "for i in range(50000):\n",
    "    X[clusters[i]].append(i)"
   ]
  },
  {
   "cell_type": "code",
   "execution_count": 20,
   "id": "0b0917e0",
   "metadata": {},
   "outputs": [
    {
     "data": {
      "text/plain": [
       "<AxesSubplot:>"
      ]
     },
     "execution_count": 20,
     "metadata": {},
     "output_type": "execute_result"
    },
    {
     "data": {
      "image/png": "[encoded data removed]",
      "text/plain": [
       "<Figure size 432x288 with 1 Axes>"
      ]
     },
     "metadata": {
      "needs_background": "light"
     },
     "output_type": "display_data"
    }
   ],
   "source": [
    "palette = sns.hls_palette(14, l=.5, s=.7)\n",
    "\n",
    "sns.scatterplot(x=W_t[:, 0],\n",
    "                y=W_t[:, 1],\n",
    "                hue=clusters,\n",
    "                palette=palette,\n",
    "                s=10)"
   ]
  },
  {
   "cell_type": "code",
   "execution_count": 21,
   "id": "bedc7854",
   "metadata": {},
   "outputs": [
    {
     "name": "stdout",
     "output_type": "stream",
     "text": [
      "Deep Reinforcement Learning for Simultaneous Sensing and Channel Access\n",
      "  in Cognitive Networks\n",
      "['cs.IT', 'cs.LG', 'math.IT']\n",
      "Building Flexible, Low-Cost Wireless Access Networks With Magma\n",
      "['cs.NI']\n",
      "Automatic Map Generation for Autonomous Driving System Testing\n",
      "['cs.SE']\n",
      "Analyzing time series activity of Twitter political spambots\n",
      "['cs.SI']\n",
      "Epistemic AI platform accelerates innovation by connecting biomedical\n",
      "  knowledge\n",
      "['cs.AI']\n",
      "DeF-DReL: Systematic Deployment of Serverless Functions in Fog and Cloud\n",
      "  environments using Deep Reinforcement Learning\n",
      "['cs.DC', 'cs.AI']\n",
      "SmashEx: Smashing SGX Enclaves Using Exceptions\n",
      "['cs.CR']\n",
      "Leveraging RIS-Enabled Smart Signal Propagation for Solving Infeasible\n",
      "  Localization Problems\n",
      "['eess.SP']\n",
      "Measuring what Really Matters: Optimizing Neural Networks for TinyML\n",
      "['cs.LG']\n",
      "Optimizing Intelligent Reflecting Surface-Base Station Association for\n",
      "  Mobile Networks\n",
      "['cs.NI', 'cs.SY', 'eess.SY']\n"
     ]
    }
   ],
   "source": [
    "topic_paper = X[1][:10]\n",
    "for i in topic_paper:\n",
    "    print(df.loc[i, 'title'])\n",
    "    print(df.loc[i, 'categories'])"
   ]
  },
  {
   "cell_type": "code",
   "execution_count": 22,
   "id": "7087e46d",
   "metadata": {},
   "outputs": [
    {
     "name": "stdout",
     "output_type": "stream",
     "text": [
      "Application of Neural Network Machine Learning to Solution of\n",
      "  Black-Scholes Equation\n",
      "['math.AP']\n",
      "The final Kasner regime inside black holes with scalar or vector hair\n",
      "['hep-th']\n",
      "Universal Properties of Light Rings for Stationary Axisymmetric\n",
      "  Spacetimes\n",
      "['gr-qc']\n",
      "Wormholes with a warped extra dimension?\n",
      "['gr-qc']\n",
      "Nonassociative black holes in R-flux deformed phase spaces and\n",
      "  relativistic models of G. Perelman thermodynamics\n",
      "['hep-th']\n",
      "Are there echoes of gravitational waves?\n",
      "['gr-qc', 'astro-ph.HE', 'hep-th']\n",
      "Two-time alternative to the Ashtekar-Olmedo-Singh black hole interior\n",
      "['gr-qc']\n",
      "Jet Parameters in the Black-Hole X-Ray Binary MAXI J1820+070\n",
      "['astro-ph.HE']\n",
      "The van der Waals-like Phase Transition in the FRW Universe\n",
      "['gr-qc', 'astro-ph.CO', 'hep-th']\n",
      "Non-singular \"Gauss\" black hole from non-locality: a simple model with a\n",
      "  de Sitter core, mass gap, and no inner horizon\n",
      "['gr-qc', 'hep-th']\n"
     ]
    }
   ],
   "source": [
    "topic_paper = X[9][:10]\n",
    "for i in topic_paper:\n",
    "    print(df.loc[i, 'title'])\n",
    "    print(df.loc[i, 'categories'])"
   ]
  },
  {
   "cell_type": "code",
   "execution_count": 23,
   "id": "11a538ba",
   "metadata": {},
   "outputs": [
    {
     "name": "stdout",
     "output_type": "stream",
     "text": [
      "On Whitehead's cut vertex lemma\n",
      "['math.GR', 'math.GT']\n",
      "Stable degenerations of singularities\n",
      "['math.AG', 'math.AC', 'math.DG']\n",
      "Parameter region for multistationarity in $n-$site phosphorylation\n",
      "  networks\n",
      "['q-bio.MN', 'math.AG', 'math.DS']\n",
      "Bell Nonlocality and the Reality of Quantum Wavefunction\n",
      "['quant-ph', 'physics.hist-ph']\n",
      "Embedded antipodal planes and the minimum weight of the dual code of\n",
      "  points and lines in projective planes of order $p^2$\n",
      "['math.CO']\n",
      "Infinite utility: counterparts and ultimate locations\n",
      "['econ.TH']\n",
      "A Weak Reverse Holder Inequality for Caloric Measure\n",
      "['math.AP']\n",
      "Combinatorics on bounded free Motzkin paths and its applications\n",
      "['math.CO']\n",
      "Tensor rank is not multiplicative under the tensor product\n",
      "['math.AC', 'cs.CC', 'quant-ph']\n",
      "Persistent sheaf cohomology\n",
      "['math.AT']\n"
     ]
    }
   ],
   "source": [
    "topic_paper = X[3][:10]\n",
    "for i in topic_paper:\n",
    "    print(df.loc[i, 'title'])\n",
    "    print(df.loc[i, 'categories'])"
   ]
  },
  {
   "cell_type": "code",
   "execution_count": null,
   "id": "26737726",
   "metadata": {},
   "outputs": [],
   "source": []
  }
 ],
 "metadata": {
  "kernelspec": {
   "display_name": "Python 3 (unsupervised)",
   "language": "python",
   "name": "unsupervised"
  },
  "language_info": {
   "codemirror_mode": {
    "name": "ipython",
    "version": 3
   },
   "file_extension": ".py",
   "mimetype": "text/x-python",
   "name": "python",
   "nbconvert_exporter": "python",
   "pygments_lexer": "ipython3",
   "version": "3.8.13"
  }
 },
 "nbformat": 4,
 "nbformat_minor": 5
}
