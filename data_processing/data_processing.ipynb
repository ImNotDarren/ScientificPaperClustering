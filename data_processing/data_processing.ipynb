{
 "cells": [
  {
   "cell_type": "code",
   "execution_count": 1,
   "id": "57a1ea57",
   "metadata": {},
   "outputs": [],
   "source": [
    "import pandas as pd\n",
    "import json\n",
    "import dask.bag as db"
   ]
  },
  {
   "cell_type": "code",
   "execution_count": 2,
   "id": "cb427976",
   "metadata": {},
   "outputs": [],
   "source": [
    "data = db.read_text('../dataset/arxiv-metadata-oai-snapshot.json').map(json.loads)"
   ]
  },
  {
   "cell_type": "code",
   "execution_count": 3,
   "id": "99c38315",
   "metadata": {},
   "outputs": [],
   "source": [
    "df = data.map(lambda x : {'id': x['id'],\n",
    "                          'authors': x['authors'],\n",
    "                          'title': x['title'],\n",
    "                          'journal_ref': x['journal-ref'],\n",
    "                          'doi': x['doi'],\n",
    "                          'categories': x['categories'].split(' '),\n",
    "                          'abstract': x['abstract'],\n",
    "                          'latest_version': x['versions'][-1]['created'],\n",
    "                          'update_date': x['update_date']}).compute()\n",
    "df = pd.DataFrame(df)"
   ]
  },
  {
   "cell_type": "code",
   "execution_count": 4,
   "id": "42281b05",
   "metadata": {},
   "outputs": [],
   "source": [
    "df['latest_version_year'] = \\\n",
    "    df.latest_version.map(lambda x : int(x.split(' ')[3]))\n",
    "df = df[df.latest_version_year > 2020]"
   ]
  },
  {
   "cell_type": "code",
   "execution_count": 5,
   "id": "15a0f871",
   "metadata": {},
   "outputs": [],
   "source": [
    "df = df.drop(columns=['latest_version'])"
   ]
  },
  {
   "cell_type": "code",
   "execution_count": 6,
   "id": "7ec39994",
   "metadata": {},
   "outputs": [],
   "source": [
    "df.to_csv('../dataset/arxiv-metadata-oai.csv', index=False)"
   ]
  }
 ],
 "metadata": {
  "kernelspec": {
   "display_name": "Python 3 (unsupervised)",
   "language": "python",
   "name": "unsupervised"
  },
  "language_info": {
   "codemirror_mode": {
    "name": "ipython",
    "version": 3
   },
   "file_extension": ".py",
   "mimetype": "text/x-python",
   "name": "python",
   "nbconvert_exporter": "python",
   "pygments_lexer": "ipython3",
   "version": "3.8.13"
  }
 },
 "nbformat": 4,
 "nbformat_minor": 5
}
