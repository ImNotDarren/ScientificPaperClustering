{
 "cells": [
  {
   "cell_type": "code",
   "execution_count": 34,
   "id": "54d22b86",
   "metadata": {},
   "outputs": [],
   "source": [
    "import pandas as pd\n",
    "import numpy as np\n",
    "from sklearn.feature_extraction.text import TfidfVectorizer\n",
    "from sklearn.decomposition import TruncatedSVD\n",
    "import pickle"
   ]
  },
  {
   "cell_type": "code",
   "execution_count": 2,
   "id": "d7bdf57a",
   "metadata": {},
   "outputs": [],
   "source": [
    "df = pd.read_csv('../dataset/arxiv-metadata-oai.csv', low_memory=False)"
   ]
  },
  {
   "cell_type": "code",
   "execution_count": 3,
   "id": "a8984d2c",
   "metadata": {},
   "outputs": [],
   "source": [
    "df = df.fillna('None')"
   ]
  },
  {
   "cell_type": "code",
   "execution_count": 4,
   "id": "9790c01e",
   "metadata": {
    "scrolled": true
   },
   "outputs": [
    {
     "name": "stdout",
     "output_type": "stream",
     "text": [
      "doi missing rate: 0.7\n",
      "journal_ref missing rate: 0.83\n"
     ]
    }
   ],
   "source": [
    "# missing rate\n",
    "doi_missing_rate = df[df.doi == 'None'].shape[0] / df.shape[0]\n",
    "journal_ref_missing_rate = \\\n",
    "    df[df.journal_ref == 'None'].shape[0] / df.shape[0]\n",
    "\n",
    "print('doi missing rate: ' + str(round(doi_missing_rate, 2)))\n",
    "print('journal_ref missing rate: ' + \\\n",
    "      str(round(journal_ref_missing_rate, 2)))"
   ]
  },
  {
   "cell_type": "code",
   "execution_count": 5,
   "id": "97da7592",
   "metadata": {},
   "outputs": [],
   "source": [
    "# get rid of journal_ref column\n",
    "df = df.drop(columns=['journal_ref', 'doi'])"
   ]
  },
  {
   "cell_type": "code",
   "execution_count": 6,
   "id": "af6cd485",
   "metadata": {},
   "outputs": [],
   "source": [
    "# drop duplicated abstracts\n",
    "df.drop_duplicates(['abstract'], inplace=True)"
   ]
  },
  {
   "cell_type": "code",
   "execution_count": 8,
   "id": "121a27ee",
   "metadata": {},
   "outputs": [],
   "source": [
    "# randomly sample 50,000 rows\n",
    "df = df.sample(50000, random_state=42)"
   ]
  },
  {
   "cell_type": "code",
   "execution_count": 9,
   "id": "c8e325f7",
   "metadata": {},
   "outputs": [],
   "source": [
    "# extract all abstracts and replace \\n token with a space\n",
    "corpus = []\n",
    "for index, row in df.iterrows():\n",
    "    text = row.abstract\n",
    "    text = text.replace('\\n', ' ')\n",
    "    corpus.append(text)"
   ]
  },
  {
   "cell_type": "code",
   "execution_count": 37,
   "id": "fcdcad58",
   "metadata": {},
   "outputs": [],
   "source": [
    "vectorizer = TfidfVectorizer(stop_words='english', min_df = 0.02)\n",
    "doc_term_matrix = vectorizer.fit_transform(corpus)\n",
    "vec = pd.DataFrame(doc_term_matrix.toarray(), columns=cv.get_feature_names_out())"
   ]
  },
  {
   "cell_type": "code",
   "execution_count": 36,
   "id": "b1d62571",
   "metadata": {},
   "outputs": [],
   "source": [
    "with open('../pkl/doc_term_matrix.pkl', 'wb') as f:\n",
    "    pickle.dump(X, f)"
   ]
  },
  {
   "cell_type": "code",
   "execution_count": 38,
   "id": "8220cbdd",
   "metadata": {},
   "outputs": [],
   "source": [
    "with open('../pkl/vectorizer.pkl', 'wb') as f:\n",
    "    pickle.dump(vectorizer, f)"
   ]
  },
  {
   "cell_type": "code",
   "execution_count": 21,
   "id": "142de25b",
   "metadata": {},
   "outputs": [
    {
     "data": {
      "text/html": [
       "<div>\n",
       "<style scoped>\n",
       "    .dataframe tbody tr th:only-of-type {\n",
       "        vertical-align: middle;\n",
       "    }\n",
       "\n",
       "    .dataframe tbody tr th {\n",
       "        vertical-align: top;\n",
       "    }\n",
       "\n",
       "    .dataframe thead th {\n",
       "        text-align: right;\n",
       "    }\n",
       "</style>\n",
       "<table border=\"1\" class=\"dataframe\">\n",
       "  <thead>\n",
       "    <tr style=\"text-align: right;\">\n",
       "      <th></th>\n",
       "      <th>10</th>\n",
       "      <th>2d</th>\n",
       "      <th>3d</th>\n",
       "      <th>ability</th>\n",
       "      <th>able</th>\n",
       "      <th>access</th>\n",
       "      <th>according</th>\n",
       "      <th>account</th>\n",
       "      <th>accuracy</th>\n",
       "      <th>accurate</th>\n",
       "      <th>...</th>\n",
       "      <th>wave</th>\n",
       "      <th>way</th>\n",
       "      <th>weak</th>\n",
       "      <th>wide</th>\n",
       "      <th>widely</th>\n",
       "      <th>work</th>\n",
       "      <th>works</th>\n",
       "      <th>world</th>\n",
       "      <th>years</th>\n",
       "      <th>zero</th>\n",
       "    </tr>\n",
       "  </thead>\n",
       "  <tbody>\n",
       "    <tr>\n",
       "      <th>0</th>\n",
       "      <td>0.0</td>\n",
       "      <td>0.0</td>\n",
       "      <td>0.0</td>\n",
       "      <td>0.0</td>\n",
       "      <td>0.0</td>\n",
       "      <td>0.637278</td>\n",
       "      <td>0.0</td>\n",
       "      <td>0.000000</td>\n",
       "      <td>0.0</td>\n",
       "      <td>0.0</td>\n",
       "      <td>...</td>\n",
       "      <td>0.0</td>\n",
       "      <td>0.0</td>\n",
       "      <td>0.0</td>\n",
       "      <td>0.0</td>\n",
       "      <td>0.0</td>\n",
       "      <td>0.0000</td>\n",
       "      <td>0.0</td>\n",
       "      <td>0.0</td>\n",
       "      <td>0.0</td>\n",
       "      <td>0.0</td>\n",
       "    </tr>\n",
       "    <tr>\n",
       "      <th>1</th>\n",
       "      <td>0.0</td>\n",
       "      <td>0.0</td>\n",
       "      <td>0.0</td>\n",
       "      <td>0.0</td>\n",
       "      <td>0.0</td>\n",
       "      <td>0.000000</td>\n",
       "      <td>0.0</td>\n",
       "      <td>0.156212</td>\n",
       "      <td>0.0</td>\n",
       "      <td>0.0</td>\n",
       "      <td>...</td>\n",
       "      <td>0.0</td>\n",
       "      <td>0.0</td>\n",
       "      <td>0.0</td>\n",
       "      <td>0.0</td>\n",
       "      <td>0.0</td>\n",
       "      <td>0.0000</td>\n",
       "      <td>0.0</td>\n",
       "      <td>0.0</td>\n",
       "      <td>0.0</td>\n",
       "      <td>0.0</td>\n",
       "    </tr>\n",
       "    <tr>\n",
       "      <th>2</th>\n",
       "      <td>0.0</td>\n",
       "      <td>0.0</td>\n",
       "      <td>0.0</td>\n",
       "      <td>0.0</td>\n",
       "      <td>0.0</td>\n",
       "      <td>0.000000</td>\n",
       "      <td>0.0</td>\n",
       "      <td>0.000000</td>\n",
       "      <td>0.0</td>\n",
       "      <td>0.0</td>\n",
       "      <td>...</td>\n",
       "      <td>0.0</td>\n",
       "      <td>0.0</td>\n",
       "      <td>0.0</td>\n",
       "      <td>0.0</td>\n",
       "      <td>0.0</td>\n",
       "      <td>0.1277</td>\n",
       "      <td>0.0</td>\n",
       "      <td>0.0</td>\n",
       "      <td>0.0</td>\n",
       "      <td>0.0</td>\n",
       "    </tr>\n",
       "    <tr>\n",
       "      <th>3</th>\n",
       "      <td>0.0</td>\n",
       "      <td>0.0</td>\n",
       "      <td>0.0</td>\n",
       "      <td>0.0</td>\n",
       "      <td>0.0</td>\n",
       "      <td>0.000000</td>\n",
       "      <td>0.0</td>\n",
       "      <td>0.000000</td>\n",
       "      <td>0.0</td>\n",
       "      <td>0.0</td>\n",
       "      <td>...</td>\n",
       "      <td>0.0</td>\n",
       "      <td>0.0</td>\n",
       "      <td>0.0</td>\n",
       "      <td>0.0</td>\n",
       "      <td>0.0</td>\n",
       "      <td>0.0000</td>\n",
       "      <td>0.0</td>\n",
       "      <td>0.0</td>\n",
       "      <td>0.0</td>\n",
       "      <td>0.0</td>\n",
       "    </tr>\n",
       "    <tr>\n",
       "      <th>4</th>\n",
       "      <td>0.0</td>\n",
       "      <td>0.0</td>\n",
       "      <td>0.0</td>\n",
       "      <td>0.0</td>\n",
       "      <td>0.0</td>\n",
       "      <td>0.000000</td>\n",
       "      <td>0.0</td>\n",
       "      <td>0.000000</td>\n",
       "      <td>0.0</td>\n",
       "      <td>0.0</td>\n",
       "      <td>...</td>\n",
       "      <td>0.0</td>\n",
       "      <td>0.0</td>\n",
       "      <td>0.0</td>\n",
       "      <td>0.0</td>\n",
       "      <td>0.0</td>\n",
       "      <td>0.0000</td>\n",
       "      <td>0.0</td>\n",
       "      <td>0.0</td>\n",
       "      <td>0.0</td>\n",
       "      <td>0.0</td>\n",
       "    </tr>\n",
       "  </tbody>\n",
       "</table>\n",
       "<p>5 rows × 742 columns</p>\n",
       "</div>"
      ],
      "text/plain": [
       "    10   2d   3d  ability  able    access  according   account  accuracy  \\\n",
       "0  0.0  0.0  0.0      0.0   0.0  0.637278        0.0  0.000000       0.0   \n",
       "1  0.0  0.0  0.0      0.0   0.0  0.000000        0.0  0.156212       0.0   \n",
       "2  0.0  0.0  0.0      0.0   0.0  0.000000        0.0  0.000000       0.0   \n",
       "3  0.0  0.0  0.0      0.0   0.0  0.000000        0.0  0.000000       0.0   \n",
       "4  0.0  0.0  0.0      0.0   0.0  0.000000        0.0  0.000000       0.0   \n",
       "\n",
       "   accurate  ...  wave  way  weak  wide  widely    work  works  world  years  \\\n",
       "0       0.0  ...   0.0  0.0   0.0   0.0     0.0  0.0000    0.0    0.0    0.0   \n",
       "1       0.0  ...   0.0  0.0   0.0   0.0     0.0  0.0000    0.0    0.0    0.0   \n",
       "2       0.0  ...   0.0  0.0   0.0   0.0     0.0  0.1277    0.0    0.0    0.0   \n",
       "3       0.0  ...   0.0  0.0   0.0   0.0     0.0  0.0000    0.0    0.0    0.0   \n",
       "4       0.0  ...   0.0  0.0   0.0   0.0     0.0  0.0000    0.0    0.0    0.0   \n",
       "\n",
       "   zero  \n",
       "0   0.0  \n",
       "1   0.0  \n",
       "2   0.0  \n",
       "3   0.0  \n",
       "4   0.0  \n",
       "\n",
       "[5 rows x 742 columns]"
      ]
     },
     "execution_count": 21,
     "metadata": {},
     "output_type": "execute_result"
    }
   ],
   "source": [
    "vec.head()"
   ]
  },
  {
   "cell_type": "code",
   "execution_count": 23,
   "id": "c9f65e4a",
   "metadata": {},
   "outputs": [],
   "source": [
    "vec.to_csv('../dataset/tfidf.csv', index=False)\n",
    "df.to_csv('../dataset/arxiv_sampled.csv', index=False)"
   ]
  },
  {
   "cell_type": "code",
   "execution_count": null,
   "id": "32827541",
   "metadata": {},
   "outputs": [],
   "source": []
  }
 ],
 "metadata": {
  "kernelspec": {
   "display_name": "Python 3 (unsupervised)",
   "language": "python",
   "name": "unsupervised"
  },
  "language_info": {
   "codemirror_mode": {
    "name": "ipython",
    "version": 3
   },
   "file_extension": ".py",
   "mimetype": "text/x-python",
   "name": "python",
   "nbconvert_exporter": "python",
   "pygments_lexer": "ipython3",
   "version": "3.8.13"
  }
 },
 "nbformat": 4,
 "nbformat_minor": 5
}
